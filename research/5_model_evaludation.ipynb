{
 "cells": [
  {
   "cell_type": "code",
   "execution_count": null,
   "id": "c339d06a",
   "metadata": {},
   "outputs": [],
   "source": []
  },
  {
   "cell_type": "code",
   "execution_count": 1,
   "id": "2ee05d1a",
   "metadata": {},
   "outputs": [
    {
     "data": {
      "text/plain": [
       "'d:\\\\DE\\\\ML OPs\\\\DSusingMLOps'"
      ]
     },
     "execution_count": 1,
     "metadata": {},
     "output_type": "execute_result"
    }
   ],
   "source": [
    "import os\n",
    "os.chdir(\"../\")\n",
    "%pwd"
   ]
  },
  {
   "cell_type": "code",
   "execution_count": null,
   "id": "2977759a",
   "metadata": {},
   "outputs": [],
   "source": [
    "os.environ['MLOPS_TRACKING_URI']=\"https://dagshub.com/bibhumlai/DSprojectusingMLOps.mlflow\"\n",
    "os.environ['MLOPS_TRACKING_USERNAME']=\"bibhumlai\"\n",
    "os.environ['MLOPS_TRACKING_PASSWORD']=\"02c1cfda74cc82affcae200880d030400e561596\"\n"
   ]
  },
  {
   "cell_type": "code",
   "execution_count": 2,
   "id": "cabd3663",
   "metadata": {},
   "outputs": [],
   "source": [
    "from dataclasses import dataclass\n",
    "from pathlib import Path\n",
    "import pandas as pd"
   ]
  },
  {
   "cell_type": "code",
   "execution_count": 3,
   "id": "fb74803c",
   "metadata": {},
   "outputs": [],
   "source": [
    "@dataclass\n",
    "class ModelEvaluationConfig:\n",
    "    root_dir: Path\n",
    "    test_data_path: Path\n",
    "    model_path: Path\n",
    "    all_params: dict\n",
    "    metric_file_name: Path\n",
    "    target_column: str\n",
    "    mlflow_uri: str"
   ]
  },
  {
   "cell_type": "code",
   "execution_count": 17,
   "id": "e5657a8b",
   "metadata": {},
   "outputs": [],
   "source": [
    "from src.datascience.constants import *\n",
    "from src.datascience.utils.common import read_yaml,create_directories,save_json"
   ]
  },
  {
   "cell_type": "code",
   "execution_count": 12,
   "id": "a03964b8",
   "metadata": {},
   "outputs": [],
   "source": [
    "class ConfigurationManager():\n",
    "    def __init__(self, config_filepath=CONFIG_FILE_PATH, \n",
    "                                params_filepath= PARAMS_FILE_PATH,\n",
    "                                schema_filepath=SCHEMA_FILE_PATH ):\n",
    "        self.config=read_yaml(config_filepath)\n",
    "        self.params=read_yaml(params_filepath)\n",
    "        self.schema=read_yaml(schema_filepath)\n",
    "        create_directories([self.config.artifacts_root])\n",
    "    def get_model_evaluation_config(self) -> ModelEvaluationConfig:\n",
    "        config = self.config.model_evaluation\n",
    "        params = self.params.ElasticNet\n",
    "        schema = self.schema.TARGET_COLUMN\n",
    "        create_directories([config.root_dir])\n",
    "        model_eval_config = ModelEvaluationConfig(\n",
    "            root_dir=Path(config.root_dir),\n",
    "            test_data_path=Path(config.test_data_path),\n",
    "            model_path=Path(config.model_path),\n",
    "            all_params=params,\n",
    "            metric_file_name=Path(config.metric_file_name),\n",
    "            target_column=schema.name,\n",
    "            mlflow_uri=\"https://dagshub.com/bibhumlai/DSprojectusingMLOps.mlflow\")\n",
    "       \n",
    "        return model_eval_config"
   ]
  },
  {
   "cell_type": "code",
   "execution_count": 9,
   "id": "04e96757",
   "metadata": {},
   "outputs": [],
   "source": [
    "import os\n",
    "import pandas as pd\n",
    "import numpy as np\n",
    "from sklearn.metrics import mean_squared_error, mean_absolute_error, r2_score\n",
    "from urllib.parse import urlparse\n",
    "import mlflow\n",
    "from src.datascience import logger\n",
    "import mlflow.sklearn\n",
    "import joblib"
   ]
  },
  {
   "cell_type": "code",
   "execution_count": 15,
   "id": "556016f9",
   "metadata": {},
   "outputs": [],
   "source": [
    "class ModelEvaluation:\n",
    "    def __init__(self, config: ModelEvaluationConfig):\n",
    "        self.config = config\n",
    "    \n",
    "    def eval_metrics(self, actual, predicted) -> dict:\n",
    "        rmse = np.sqrt(mean_squared_error(actual, predicted))\n",
    "        mae = mean_absolute_error(actual, predicted)\n",
    "        r2_square = r2_score(actual, predicted)\n",
    "        return  rmse, mae, r2_square\n",
    "    \n",
    "    def log_into_mlflow(self):\n",
    "        \n",
    "        test_data = pd.read_csv(self.config.test_data_path)\n",
    "        logger.info(f\"Test data shape: {test_data.shape}\")\n",
    "        model = joblib.load(self.config.model_path)\n",
    "        logger.info(f\"Model: {model}\")\n",
    "        test_x= test_data.drop(columns=[self.config.target_column], axis=1)\n",
    "        test_y= test_data[self.config.target_column]\n",
    "        \n",
    "        mlflow.set_registry_uri(self.config.mlflow_uri)\n",
    "        tracking_url_type_store = urlparse(mlflow.get_tracking_uri()).scheme\n",
    "        \n",
    "    \n",
    "        with mlflow.start_run():\n",
    "            predicted_qualities = model.predict(test_x)\n",
    "            (rmse, mae, r2_square) = self.eval_metrics(test_y, predicted_qualities)\n",
    "            logger.info(f\"Elasticnet model (alpha={self.config.all_params['alpha']}, l1_ratio={self.config.all_params['l1_ratio']})\")\n",
    "            logger.info(f\"  RMSE: {rmse}\")\n",
    "            logger.info(f\"  MAE: {mae}\")\n",
    "            logger.info(f\"  R2: {r2_square}\")\n",
    "            \n",
    "            ##SAVE METRICS\n",
    "            scores = ({\"rmse\": rmse, \"mae\": mae, \"r2_square\": r2_square})\n",
    "            save_json(path=Path(self.config.metric_file_name), data= scores)\n",
    "            mlflow.log_params(self.config.all_params)\n",
    "            mlflow.log_param(\"alpha\", self.config.all_params['alpha'])\n",
    "            mlflow.log_param(\"l1_ratio\", self.config.all_params['l1_ratio'])\n",
    "            mlflow.log_metric(\"rmse\", rmse)\n",
    "            mlflow.log_metric(\"mae\", mae)\n",
    "            mlflow.log_metric(\"r2_square\", r2_square)\n",
    "            \n",
    "            if tracking_url_type_store != \"file\":\n",
    "                mlflow.sklearn.log_model(model, \"model\", registered_model_name=\"ElasticnetWineModel\")\n",
    "            else:\n",
    "                mlflow.sklearn.log_model(model, \"model\")"
   ]
  },
  {
   "cell_type": "code",
   "execution_count": 19,
   "id": "454fbdcb",
   "metadata": {},
   "outputs": [
    {
     "name": "stdout",
     "output_type": "stream",
     "text": [
      "[2025-09-13 23:56:07,435: INFO : common: yaml file: config\\config.yaml loaded sucessfully]\n",
      "[2025-09-13 23:56:07,437: INFO : common: yaml file: params.yaml loaded sucessfully]\n",
      "[2025-09-13 23:56:07,439: INFO : common: yaml file: schema.yaml loaded sucessfully]\n",
      "[2025-09-13 23:56:07,441: INFO : common: created directory at path :artifacts]\n",
      "[2025-09-13 23:56:07,442: INFO : common: created directory at path :artifacts/model_evaluation]\n",
      "[2025-09-13 23:56:07,443: INFO : 1899718429: Model Evaluation Config: ModelEvaluationConfig(root_dir=WindowsPath('artifacts/model_evaluation'), test_data_path=WindowsPath('artifacts/data_transformation/test.csv'), model_path=WindowsPath('artifacts/model_trainer/model.joblib'), all_params=ConfigBox({'alpha': 0.2, 'l1_ratio': 0.1}), metric_file_name=WindowsPath('artifacts/model_evaluation/metrics.json'), target_column='quality', mlflow_uri='https://dagshub.com/bibhumlai/DSprojectusingMLOps.mlflow')]\n",
      "[2025-09-13 23:56:07,446: INFO : 1304064896: Test data shape: (320, 12)]\n",
      "[2025-09-13 23:56:07,447: INFO : 1304064896: Model: ElasticNet(alpha=0.2, l1_ratio=0.1, random_state=42)]\n",
      "[2025-09-13 23:56:07,504: INFO : 1304064896: Elasticnet model (alpha=0.2, l1_ratio=0.1)]\n",
      "[2025-09-13 23:56:07,505: INFO : 1304064896:   RMSE: 0.6929185588573523]\n",
      "[2025-09-13 23:56:07,507: INFO : 1304064896:   MAE: 0.5543829927884041]\n",
      "[2025-09-13 23:56:07,508: INFO : 1304064896:   R2: 0.2652917761622786]\n",
      "[2025-09-13 23:56:07,510: INFO : common: json file saved at : artifacts\\model_evaluation\\metrics.json]\n"
     ]
    },
    {
     "name": "stderr",
     "output_type": "stream",
     "text": [
      "2025/09/13 23:56:07 WARNING mlflow.models.model: `artifact_path` is deprecated. Please use `name` instead.\n",
      "2025/09/13 23:56:11 WARNING mlflow.models.model: Model logged without a signature and input example. Please set `input_example` parameter when logging the model to auto infer the model signature.\n"
     ]
    }
   ],
   "source": [
    "try:\n",
    "    config = ConfigurationManager()\n",
    "    model_eval_config = config.get_model_evaluation_config()\n",
    "    logger.info(f\"Model Evaluation Config: {model_eval_config}\")\n",
    "    model_eval = ModelEvaluation(config=model_eval_config)\n",
    "    model_eval.log_into_mlflow()\n",
    "except Exception as e:\n",
    "    logger.exception(e)\n",
    "    raise e    "
   ]
  }
 ],
 "metadata": {
  "kernelspec": {
   "display_name": "venv (3.13.5)",
   "language": "python",
   "name": "python3"
  },
  "language_info": {
   "codemirror_mode": {
    "name": "ipython",
    "version": 3
   },
   "file_extension": ".py",
   "mimetype": "text/x-python",
   "name": "python",
   "nbconvert_exporter": "python",
   "pygments_lexer": "ipython3",
   "version": "3.13.5"
  }
 },
 "nbformat": 4,
 "nbformat_minor": 5
}
