{
 "cells": [
  {
   "cell_type": "code",
   "execution_count": 1,
   "id": "caf20af6",
   "metadata": {},
   "outputs": [],
   "source": [
    "import os\n",
    "os.chdir(\"../\")"
   ]
  },
  {
   "cell_type": "code",
   "execution_count": 2,
   "id": "2ad982ba",
   "metadata": {},
   "outputs": [
    {
     "data": {
      "text/plain": [
       "'d:\\\\DE\\\\ML OPs\\\\DSusingMLOps'"
      ]
     },
     "execution_count": 2,
     "metadata": {},
     "output_type": "execute_result"
    }
   ],
   "source": [
    "%pwd"
   ]
  },
  {
   "cell_type": "code",
   "execution_count": 3,
   "id": "fb8625dd",
   "metadata": {},
   "outputs": [
    {
     "name": "stderr",
     "output_type": "stream",
     "text": [
      "<>:2: SyntaxWarning: invalid escape sequence '\\d'\n",
      "<>:2: SyntaxWarning: invalid escape sequence '\\d'\n",
      "C:\\Users\\bibhu\\AppData\\Local\\Temp\\ipykernel_11544\\3451938046.py:2: SyntaxWarning: invalid escape sequence '\\d'\n",
      "  data = pd.read_csv(\"artifacts\\data_ingestion\\data\\winequality-red.csv\")\n"
     ]
    }
   ],
   "source": [
    "import pandas as pd\n",
    "data = pd.read_csv(\"artifacts\\data_ingestion\\data\\winequality-red.csv\")"
   ]
  },
  {
   "cell_type": "code",
   "execution_count": 4,
   "id": "9d4d2d40",
   "metadata": {},
   "outputs": [],
   "source": [
    "from dataclasses import dataclass\n",
    "from pathlib import Path\n",
    "\n",
    "@dataclass\n",
    "class DataTrnsfomationConfig():\n",
    "    root_dir:Path\n",
    "    data_path: Path\n"
   ]
  },
  {
   "cell_type": "code",
   "execution_count": 5,
   "id": "b858f485",
   "metadata": {},
   "outputs": [],
   "source": [
    "from src.datascience.constants import *\n",
    "from src.datascience.utils.common import read_yaml,create_directories"
   ]
  },
  {
   "cell_type": "code",
   "execution_count": 6,
   "id": "90a838dc",
   "metadata": {},
   "outputs": [],
   "source": [
    "class ConfigurationManager():\n",
    "    def __init__(self, config_filepath=CONFIG_FILE_PATH, \n",
    "                                params_filepath= PARAMS_FILE_PATH,\n",
    "                                schema_filepath=SCHEMA_FILE_PATH ):\n",
    "        self.config=read_yaml(config_filepath)\n",
    "        self.params=read_yaml(params_filepath)\n",
    "        self.schema=read_yaml(schema_filepath)\n",
    "        create_directories([self.config.artifacts_root])\n",
    "        \n",
    "    def get_data_transformation_config(self)->DataTrnsfomationConfig:\n",
    "        config=self.config.data_transformation\n",
    "        create_directories([config.root_dir])\n",
    "        data_transformation_config=DataTrnsfomationConfig(\n",
    "            root_dir=Path(config.root_dir), \n",
    "            data_path=Path(config.data_path)\n",
    "        )\n",
    "        return data_transformation_config\n",
    "        "
   ]
  },
  {
   "cell_type": "code",
   "execution_count": 7,
   "id": "0b9c531f",
   "metadata": {},
   "outputs": [],
   "source": [
    "from src.datascience import logger\n",
    "from sklearn.model_selection import train_test_split\n",
    "import pandas as pd\n"
   ]
  },
  {
   "cell_type": "code",
   "execution_count": 8,
   "id": "20abc941",
   "metadata": {},
   "outputs": [],
   "source": [
    "class DataTransfomation:\n",
    "    def __init__(self, config:DataTrnsfomationConfig):\n",
    "        self.config=config\n",
    "        \n",
    "    def train_test_data_splitting(self):\n",
    "        data=pd.read_csv(self.config.data_path)\n",
    "        train, test = train_test_split(data, test_size=0.2, random_state=42)\n",
    "       \n",
    "\n",
    "        train_path = os.path.join(self.config.root_dir, \"train.csv\")\n",
    "        train.to_csv(train_path, index=False)\n",
    "\n",
    "        test_path = os.path.join(self.config.root_dir, \"test.csv\")\n",
    "        test.to_csv(test_path, index=False)\n",
    "\n",
    "        logger.info(f\"Train and Test data saved in {self.config.root_dir}\")\n",
    "        logger.info(train.shape)\n",
    "        logger.info(test.shape)\n",
    "        print(train.shape\n",
    "                )\n",
    "        print(test.shape)\n",
    "        "
   ]
  },
  {
   "cell_type": "code",
   "execution_count": null,
   "id": "defd4e8c",
   "metadata": {},
   "outputs": [
    {
     "name": "stdout",
     "output_type": "stream",
     "text": [
      "True\n"
     ]
    }
   ],
   "source": [
    "try:\n",
    "    with open(Path(\"artifacts/data_validation/status.txt\"), 'r') as f:\n",
    "        status = f.read().split(\" \")[-1]\n",
    "        print(status)\n",
    "    if status == True:\n",
    "        config= ConfigurationManager()\n",
    "        data_Transformation_config=config.get_data_transformation_config()\n",
    "        data_Transformation= DataTransformation(config=data_Transformation_config)\n",
    "        data_Transformation.train_test_data_splitting()\n",
    "    else:\n",
    "        raise Exception(\"Data Validation Failed, Please check the logs\")\n",
    "except Exception as e:\n",
    "    raise e\n",
    "    print(e)\n",
    "\n",
    "\n",
    "\n"
   ]
  }
 ],
 "metadata": {
  "kernelspec": {
   "display_name": "venv (3.13.5)",
   "language": "python",
   "name": "python3"
  },
  "language_info": {
   "codemirror_mode": {
    "name": "ipython",
    "version": 3
   },
   "file_extension": ".py",
   "mimetype": "text/x-python",
   "name": "python",
   "nbconvert_exporter": "python",
   "pygments_lexer": "ipython3",
   "version": "3.13.5"
  }
 },
 "nbformat": 4,
 "nbformat_minor": 5
}
