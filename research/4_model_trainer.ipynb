{
 "cells": [
  {
   "cell_type": "code",
   "execution_count": 1,
   "id": "07600e13",
   "metadata": {},
   "outputs": [
    {
     "data": {
      "text/plain": [
       "'d:\\\\DE\\\\ML OPs\\\\DSusingMLOps'"
      ]
     },
     "execution_count": 1,
     "metadata": {},
     "output_type": "execute_result"
    }
   ],
   "source": [
    "import os\n",
    "os.chdir(\"../\")\n",
    "%pwd"
   ]
  },
  {
   "cell_type": "code",
   "execution_count": 2,
   "id": "3a1b0c94",
   "metadata": {},
   "outputs": [],
   "source": [
    "from dataclasses import dataclass\n",
    "from pathlib import Path\n",
    "import pandas as pd"
   ]
  },
  {
   "cell_type": "code",
   "execution_count": 3,
   "id": "52a5abf6",
   "metadata": {},
   "outputs": [],
   "source": [
    "@dataclass\n",
    "class ModelTrainerConfig:\n",
    "    root_dir: Path\n",
    "    model_name: str\n",
    "    train_date_path: Path\n",
    "    test_data_path: Path\n",
    "    alpha: float\n",
    "    l1_ratio: float\n",
    "    target_column: str"
   ]
  },
  {
   "cell_type": "code",
   "execution_count": null,
   "id": "6ca698c0",
   "metadata": {},
   "outputs": [],
   "source": [
    "from src.datascience.constants import *\n",
    "from src.datascience.utils.common import read_yaml,create_directoriesfrom src.datascience.constants import *\n",
    "from src.datascience.utils.common import read_yaml,create_directories"
   ]
  },
  {
   "cell_type": "code",
   "execution_count": 5,
   "id": "a4ece55d",
   "metadata": {},
   "outputs": [],
   "source": [
    "class ConfigurationManager():\n",
    "    def __init__(self, config_filepath=CONFIG_FILE_PATH, \n",
    "                                params_filepath= PARAMS_FILE_PATH,\n",
    "                                schema_filepath=SCHEMA_FILE_PATH ):\n",
    "        self.config=read_yaml(config_filepath)\n",
    "        self.params=read_yaml(params_filepath)\n",
    "        self.schema=read_yaml(schema_filepath)\n",
    "        create_directories([self.config.artifacts_root])\n",
    "    \n",
    "    def get_model_trainer_config(self) -> ModelTrainerConfig:\n",
    "        config = self.config.model_tainer\n",
    "        params = self.params.ElasticNet\n",
    "        schema = self.schema.TARGET_COLUMN\n",
    "        model_trainer_config = ModelTrainerConfig(\n",
    "            root_dir=Path(config.root_dir),\n",
    "            model_name=config.model_name,\n",
    "            train_date_path=Path(config.train_date_path),\n",
    "            test_data_path=Path(config.test_data_path),\n",
    "            alpha=params.alpha,\n",
    "            l1_ratio=params.l1_ratio,\n",
    "            target_column=schema.name\n",
    "\n",
    "            \n",
    "        )\n",
    "        return model_trainer_config\n",
    "        "
   ]
  },
  {
   "cell_type": "code",
   "execution_count": 6,
   "id": "25a0e543",
   "metadata": {},
   "outputs": [],
   "source": [
    "import pandas as pd\n",
    "import os\n",
    "from src.datascience.utils.common import save_json,load_json\n",
    "from sklearn.linear_model import ElasticNet\n",
    "import joblib\n",
    "from src.datascience import logger"
   ]
  },
  {
   "cell_type": "code",
   "execution_count": 7,
   "id": "2b56a924",
   "metadata": {},
   "outputs": [],
   "source": [
    "class model_trainer:\n",
    "    def __init__(self, config: ModelTrainerConfig):\n",
    "        self.config = config\n",
    "\n",
    "    def train_model(self):\n",
    "        logger.info(\"Loading training and test data\")\n",
    "        train_data = pd.read_csv(self.config.train_date_path)\n",
    "        test_data = pd.read_csv(self.config.test_data_path)\n",
    "\n",
    "        logger.info(\"Splitting features and target\")\n",
    "        X_train = train_data.drop(columns=[self.config.target_column], axis=1)\n",
    "        y_train = train_data[self.config.target_column]\n",
    "\n",
    "        X_test = test_data.drop(columns=[self.config.target_column], axis=1)\n",
    "        y_test = test_data[self.config.target_column]\n",
    "\n",
    "        logger.info(\"Training the model\")\n",
    "        lr = ElasticNet(alpha=self.config.alpha, l1_ratio=self.config.l1_ratio, random_state=42)\n",
    "        lr.fit(X_train, y_train)\n",
    "\n",
    "        logger.info(\"Saving the model\")\n",
    "        os.makedirs(self.config.root_dir, exist_ok=True)\n",
    "        model_path = os.path.join(self.config.root_dir, self.config.model_name)\n",
    "        joblib.dump(lr, model_path)\n",
    "        logger.info(f\"Model saved at {model_path}\")"
   ]
  },
  {
   "cell_type": "code",
   "execution_count": 8,
   "id": "1136abd1",
   "metadata": {},
   "outputs": [
    {
     "name": "stdout",
     "output_type": "stream",
     "text": [
      "[2025-09-13 22:44:11,235: INFO : common: yaml file: config\\config.yaml loaded sucessfully]\n",
      "[2025-09-13 22:44:11,237: INFO : common: yaml file: params.yaml loaded sucessfully]\n",
      "[2025-09-13 22:44:11,240: INFO : common: yaml file: schema.yaml loaded sucessfully]\n",
      "[2025-09-13 22:44:11,242: INFO : common: created directory at path :artifacts]\n",
      "[2025-09-13 22:44:11,243: INFO : 1523863267: Loading training and test data]\n",
      "[2025-09-13 22:44:11,250: INFO : 1523863267: Splitting features and target]\n",
      "[2025-09-13 22:44:11,254: INFO : 1523863267: Training the model]\n",
      "[2025-09-13 22:44:11,258: INFO : 1523863267: Saving the model]\n",
      "[2025-09-13 22:44:11,260: INFO : 1523863267: Model saved at artifacts\\model_trainer\\model.joblib]\n",
      "[2025-09-13 22:44:11,261: INFO : 1556057569: Model training completed successfully.]\n"
     ]
    }
   ],
   "source": [
    "try:\n",
    "    config = ConfigurationManager()\n",
    "    model_trainer_config = config.get_model_trainer_config()\n",
    "    model_trainer_instance = model_trainer(config=model_trainer_config)\n",
    "    model_trainer_instance.train_model()\n",
    "    logger.info(\"Model training completed successfully.\")\n",
    "except Exception as e:\n",
    "    logger.exception(e)\n",
    "    raise e"
   ]
  }
 ],
 "metadata": {
  "kernelspec": {
   "display_name": "venv (3.13.5)",
   "language": "python",
   "name": "python3"
  },
  "language_info": {
   "codemirror_mode": {
    "name": "ipython",
    "version": 3
   },
   "file_extension": ".py",
   "mimetype": "text/x-python",
   "name": "python",
   "nbconvert_exporter": "python",
   "pygments_lexer": "ipython3",
   "version": "3.13.5"
  }
 },
 "nbformat": 4,
 "nbformat_minor": 5
}
